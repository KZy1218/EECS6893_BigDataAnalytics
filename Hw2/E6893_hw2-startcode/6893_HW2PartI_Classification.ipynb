{
 "cells": [
  {
   "cell_type": "code",
   "execution_count": 2,
   "metadata": {
    "id": "6hKq-n7G62-2"
   },
   "outputs": [],
   "source": [
    "from pyspark.sql import SparkSession\n",
    "import matplotlib.pyplot as plt\n",
    "%matplotlib inline\n",
    "import numpy as np"
   ]
  },
  {
   "cell_type": "markdown",
   "metadata": {
    "id": "V5_jvhfhtFCj"
   },
   "source": [
    "1. Data loading"
   ]
  },
  {
   "cell_type": "code",
   "execution_count": null,
   "metadata": {
    "id": "_Yi3ww9VtSKs"
   },
   "outputs": [],
   "source": [
    "#Read csv file to dataframe\n",
    "#=====your code here==========\n",
    "\n",
    "\n",
    "\n",
    "\n",
    "\n",
    "#===============================\n",
    "data.show(3)"
   ]
  },
  {
   "cell_type": "code",
   "execution_count": 5,
   "metadata": {
    "id": "i9ZrT0OR79To"
   },
   "outputs": [],
   "source": [
    "from functools import reduce"
   ]
  },
  {
   "cell_type": "code",
   "execution_count": null,
   "metadata": {
    "id": "u9vNg2LFtoJK"
   },
   "outputs": [],
   "source": [
    "#change the column names of dataframe\n",
    "df = data.withColumnRenamed('_c0','age').withColumnRenamed('_c1','workclass').withColumnRenamed('_c2','fnlwgt')\\\n",
    ".withColumnRenamed('_c3', 'education').withColumnRenamed('_c4', 'education_num')\\\n",
    ".withColumnRenamed('_c5','marital_status').withColumnRenamed('_c6', 'occupation').withColumnRenamed('_c7', 'relationship')\\\n",
    ".withColumnRenamed('_c8', 'race').withColumnRenamed('_c9', 'sex').withColumnRenamed('_c10', 'capital_gain')\\\n",
    ".withColumnRenamed('_c11', 'capital_loss').withColumnRenamed('_c12','hours_per_week')\\\n",
    ".withColumnRenamed('_c13', 'native_country').withColumnRenamed('_c14', 'income')\n",
    "\n",
    "df.printSchema()\n",
    "df.show(2)\n",
    "\n",
    "dataset = df"
   ]
  },
  {
   "cell_type": "markdown",
   "metadata": {
    "id": "CeRTQAUE6VfO"
   },
   "source": [
    "2. Data preprocessing"
   ]
  },
  {
   "cell_type": "code",
   "execution_count": 7,
   "metadata": {
    "id": "3TKctNhO6bHG"
   },
   "outputs": [],
   "source": [
    "from pyspark.ml import Pipeline\n",
    "from pyspark.ml.feature import OneHotEncoder, StringIndexer, VectorAssembler"
   ]
  },
  {
   "cell_type": "code",
   "execution_count": 8,
   "metadata": {
    "id": "_83QyptU_nDE"
   },
   "outputs": [],
   "source": [
    "#stages in our Pipeline\n",
    "stages = []\n",
    "categoricalColumns = [\"workclass\",\"education\",\"marital_status\",\"occupation\",\"relationship\",\"race\",\"sex\",\"native_country\"]"
   ]
  },
  {
   "cell_type": "code",
   "execution_count": 9,
   "metadata": {
    "id": "CWCBHX35A4s1"
   },
   "outputs": [],
   "source": [
    "for categoricalCol in categoricalColumns:\n",
    "    # Category Indexing with StringIndexer\n",
    "    stringIndexer = StringIndexer(inputCol=categoricalCol, outputCol=categoricalCol + \"Index\")\n",
    "    # Use OneHotEncoder to convert categorical variables into binary SparseVectors\n",
    "    encoder = OneHotEncoder(inputCols=[stringIndexer.getOutputCol()], outputCols=[categoricalCol + \"classVec\"])\n",
    "    # Add stages.  These are not run here, but will run all at once later on.\n",
    "    stages += [stringIndexer, encoder]"
   ]
  },
  {
   "cell_type": "code",
   "execution_count": 10,
   "metadata": {
    "id": "iNkhx2QVA-1b"
   },
   "outputs": [],
   "source": [
    "# Convert label into label indices using the StringIndexer\n",
    "label_stringIdx = StringIndexer(inputCol=\"income\", outputCol=\"label\")\n",
    "stages += [label_stringIdx]"
   ]
  },
  {
   "cell_type": "code",
   "execution_count": 11,
   "metadata": {
    "id": "BB4TOB6MBCJ3"
   },
   "outputs": [],
   "source": [
    "# Transform all features into a vector using VectorAssembler\n",
    "numericCols = [\"age\", \"fnlwgt\", \"education_num\", \"capital_gain\", \"capital_loss\", \"hours_per_week\"]\n",
    "assemblerInputs = [c + \"classVec\" for c in categoricalColumns] + numericCols\n",
    "assembler = VectorAssembler(inputCols=assemblerInputs, outputCol=\"features\")\n",
    "stages += [assembler]"
   ]
  },
  {
   "cell_type": "code",
   "execution_count": 12,
   "metadata": {
    "id": "Ab0WDG00Bqc0"
   },
   "outputs": [],
   "source": [
    "pipeline = Pipeline(stages=stages)\n",
    "pipelineModel = pipeline.fit(dataset)\n",
    "preppedDataDF = pipelineModel.transform(dataset)"
   ]
  },
  {
   "cell_type": "code",
   "execution_count": null,
   "metadata": {
    "id": "-x6nXJUiByOE"
   },
   "outputs": [],
   "source": [
    "preppedDataDF.take(3)"
   ]
  },
  {
   "cell_type": "code",
   "execution_count": null,
   "metadata": {
    "id": "NPONX19OB2Tu"
   },
   "outputs": [],
   "source": [
    "# Keep relevant columns\n",
    "cols = dataset.columns\n",
    "selectedcols = [\"label\", \"features\"] + cols\n",
    "dataset = preppedDataDF.select(selectedcols)\n",
    "display(dataset)"
   ]
  },
  {
   "cell_type": "code",
   "execution_count": null,
   "metadata": {
    "id": "ZYB1oCw4CJuc"
   },
   "outputs": [],
   "source": [
    "### Randomly split data into training and test sets. set seed for reproducibility\n",
    "#=====your code here==========\n",
    "\n",
    "\n",
    "\n",
    "#===============================\n",
    "print(trainingData.count())\n",
    "print(testData.count())"
   ]
  },
  {
   "cell_type": "markdown",
   "metadata": {
    "id": "STxwMITSBLEH"
   },
   "source": [
    "3. Modeling"
   ]
  },
  {
   "cell_type": "code",
   "execution_count": null,
   "metadata": {
    "id": "2mej0dQPC22x"
   },
   "outputs": [],
   "source": [
    "# Fit model to prepped data\n",
    "\n",
    "#LogisticRegression model, maxIter=10\n",
    "#=====your code here==========\n",
    "\n",
    "\n",
    "\n",
    "\n",
    "\n",
    "#===============================\n",
    "\n",
    "\n",
    "# select example rows to display.\n",
    "predictions = lrModel.transform(testData)\n",
    "predictions.show()\n",
    "\n",
    "# compute accuracy on the test set\n",
    "evaluator = MulticlassClassificationEvaluator(labelCol=\"label\", predictionCol=\"prediction\", metricName=\"accuracy\")\n",
    "accuracy = evaluator.evaluate(predictions)\n",
    "print(\"Test set accuracy = \" + str(accuracy))\n"
   ]
  },
  {
   "cell_type": "code",
   "execution_count": null,
   "metadata": {
    "id": "7AwIbeIwbpsY"
   },
   "outputs": [],
   "source": [
    "#Random Forest\n",
    "\n",
    "\n",
    "\n"
   ]
  },
  {
   "cell_type": "code",
   "execution_count": null,
   "metadata": {
    "id": "PHc1qAd6Skf1"
   },
   "outputs": [],
   "source": [
    "#NaiveBayes\n",
    "#=====your code here==========\n",
    "\n",
    "\n",
    "\n",
    "#===============================\n",
    "\n",
    "\n",
    "# select example rows to display.\n",
    "predictions = nbModel.transform(testData)\n",
    "predictions.show()\n",
    "\n",
    "# compute accuracy on the test set\n",
    "evaluator = MulticlassClassificationEvaluator(labelCol=\"label\", predictionCol=\"prediction\", metricName=\"accuracy\")\n",
    "accuracy = evaluator.evaluate(predictions)\n",
    "print(\"Test set accuracy = \" + str(accuracy))\n"
   ]
  },
  {
   "cell_type": "code",
   "execution_count": null,
   "metadata": {
    "id": "PBbr8btnbyV3"
   },
   "outputs": [],
   "source": [
    "#Decision Tree\n",
    "\n",
    "\n",
    "\n"
   ]
  },
  {
   "cell_type": "code",
   "execution_count": null,
   "metadata": {
    "id": "4nccBiy_b8KT"
   },
   "outputs": [],
   "source": [
    "#Gradient Boosting Trees\n",
    "\n",
    "\n",
    "\n"
   ]
  },
  {
   "cell_type": "code",
   "execution_count": null,
   "metadata": {
    "id": "O9sNFLH0b_LH"
   },
   "outputs": [],
   "source": [
    "# Multi-layer Perceptron\n",
    "\n",
    "\n",
    "\n"
   ]
  },
  {
   "cell_type": "code",
   "execution_count": null,
   "metadata": {
    "id": "AG_EmZcfcCIU"
   },
   "outputs": [],
   "source": [
    "# Linear Support Vector Machine\n",
    "\n",
    "\n",
    "\n"
   ]
  },
  {
   "cell_type": "code",
   "execution_count": null,
   "metadata": {
    "id": "IvJc9VXrcGFU"
   },
   "outputs": [],
   "source": [
    "# One-vs-Rest\n",
    "\n",
    "\n",
    "\n"
   ]
  },
  {
   "cell_type": "markdown",
   "metadata": {
    "id": "_WIIE8pEDSR9"
   },
   "source": [
    "4. Comparison and analysis"
   ]
  },
  {
   "cell_type": "code",
   "execution_count": null,
   "metadata": {
    "id": "LpoclCFXD7tV"
   },
   "outputs": [],
   "source": [
    "# Rank models according to Test set accuracy\n",
    "#=====your code here==========\n",
    "\n",
    "\n",
    "#==============================="
   ]
  },
  {
   "cell_type": "markdown",
   "metadata": {
    "id": "HL3j030aa7M8"
   },
   "source": [
    "*your analysis*"
   ]
  }
 ],
 "metadata": {
  "colab": {
   "collapsed_sections": [],
   "name": "6893_HW2PartI_LogisticRegression.ipynb",
   "provenance": []
  },
  "kernelspec": {
   "display_name": "Python 3.7.6 64-bit ('anaconda3')",
   "language": "python",
   "name": "python3"
  },
  "language_info": {
   "name": "python",
   "version": "3.7.6"
  },
  "vscode": {
   "interpreter": {
    "hash": "2e13bc2046f949ac3aa4f20920f37adcce03689b8a3223bc48e2df045b92d2c3"
   }
  }
 },
 "nbformat": 4,
 "nbformat_minor": 0
}
